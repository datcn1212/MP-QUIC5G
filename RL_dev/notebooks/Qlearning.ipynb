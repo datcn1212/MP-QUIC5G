{
 "cells": [
  {
   "cell_type": "code",
   "execution_count": 145,
   "metadata": {
    "scrolled": true
   },
   "outputs": [
    {
     "name": "stdout",
     "output_type": "stream",
     "text": [
      "Process is interrupted.\n"
     ]
    }
   ],
   "source": [
    "%%bash\n",
    "echo Factor > /App/output/factor.data\n",
    "echo Qtable1 > /App/output/qtable.data\n",
    "echo Bsent > /App/output/bsent.data\n",
    "\n",
    "cd /App/mininettest/ && python /App/mininettest/demo.py --scheduler rtt --rtt 0\n",
    "time=$(tail -1 /App/logs/client.logs | awk '{print $3}')\n",
    "echo $(bc <<< \"scale=2; $time\") "
   ]
  },
  {
   "cell_type": "markdown",
   "metadata": {},
   "source": [
    "## Testing Phase"
   ]
  },
  {
   "cell_type": "code",
   "execution_count": 119,
   "metadata": {},
   "outputs": [
    {
     "name": "stdout",
     "output_type": "stream",
     "text": [
      "Process is terminated.\n"
     ]
    }
   ],
   "source": [
    "%%bash\n",
    "rm /App/logs/client.logs\n",
    "echo RR > /App/output/random.csv\n",
    "for i in $(seq 1 100)\n",
    "do\n",
    "cd /App/mininettest/ && python /App/mininettest/demo.py --scheduler random --rtt 0\n",
    "time=$(tail -1 /App/logs/client.logs | awk '{print $3}')\n",
    "echo $time >> /App/output/random.csv\n",
    "done"
   ]
  },
  {
   "cell_type": "code",
   "execution_count": 135,
   "metadata": {
    "scrolled": true
   },
   "outputs": [],
   "source": [
    "%%bash\n",
    "rm /App/logs/client.logs\n",
    "echo minRTT > /App/output/rtt.csv\n",
    "for i in $(seq 1 200)\n",
    "do\n",
    "cd /App/mininettest/ && python /App/mininettest/demo.py --scheduler rtt --rtt 0\n",
    "time=$(tail -1 /App/logs/client.logs | awk '{print $3}')\n",
    "echo $time >> /App/output/rtt.csv\n",
    "done"
   ]
  },
  {
   "cell_type": "code",
   "execution_count": 136,
   "metadata": {},
   "outputs": [],
   "source": [
    "%%bash\n",
    "rm /App/logs/client.logs\n",
    "echo ECF > /App/output/ecf.csv\n",
    "for i in $(seq 1 200)\n",
    "do\n",
    "cd /App/mininettest/ && python /App/mininettest/demo.py --scheduler ecf --rtt 0\n",
    "time=$(tail -1 /App/logs/client.logs | awk '{print $3}')\n",
    "echo $time >> /App/output/ecf.csv\n",
    "done"
   ]
  },
  {
   "cell_type": "code",
   "execution_count": 137,
   "metadata": {},
   "outputs": [],
   "source": [
    "%%bash\n",
    "rm /App/logs/client.logs\n",
    "echo BLEST > /App/output/blest.csv\n",
    "for i in $(seq 1 200)\n",
    "do\n",
    "cd /App/mininettest/ && python /App/mininettest/demo.py --scheduler blest --rtt 0\n",
    "time=$(tail -1 /App/logs/client.logs | awk '{print $3}')\n",
    "echo $time >> /App/output/blest.csv\n",
    "done"
   ]
  },
  {
   "cell_type": "code",
   "execution_count": 138,
   "metadata": {},
   "outputs": [],
   "source": [
    "%%bash\n",
    "rm /App/logs/client.logs\n",
    "echo M-Peek > /App/output/peekaboo.csv\n",
    "for i in $(seq 1 200)\n",
    "do\n",
    "cd /App/mininettest/ && python /App/mininettest/demo.py --scheduler peek --rtt 0\n",
    "time=$(tail -1 /App/logs/client.logs | awk '{print $3}')\n",
    "echo $time >> /App/output/peekaboo.csv\n",
    "done"
   ]
  },
  {
   "cell_type": "code",
   "execution_count": 139,
   "metadata": {},
   "outputs": [],
   "source": [
    "%%bash\n",
    "rm /App/logs/client.logs\n",
    "echo Factor > /App/output/factor.data\n",
    "echo Qtable1 > /App/output/qtable.data\n",
    "echo Bsent > /App/output/bsent.data\n",
    "\n",
    "echo SATO > /App/output/qlearning.csv\n",
    "for i in $(seq 1 200)\n",
    "do\n",
    "cd /App/mininettest/ && python /App/mininettest/demo.py --scheduler qlearning --rtt 0\n",
    "time=$(tail -1 /App/logs/client.logs | awk '{print $3}')\n",
    "echo $time >> /App/output/qlearning.csv\n",
    "done"
   ]
  },
  {
   "cell_type": "code",
   "execution_count": 142,
   "metadata": {
    "scrolled": true
   },
   "outputs": [
    {
     "data": {
      "image/png": "[encoded data removed]",
      "text/plain": [
       "<matplotlib.figure.Figure at 0x7f30c93f70d0>"
      ]
     },
     "metadata": {
      "needs_background": "light"
     },
     "output_type": "display_data"
    }
   ],
   "source": [
    "import pandas\n",
    "\n",
    "random = pandas.read_csv(\"/App/output/random.csv\")\n",
    "rtt = pandas.read_csv(\"/App/output/rtt.csv\")\n",
    "ecf = pandas.read_csv(\"/App/output/ecf.csv\")\n",
    "blest = pandas.read_csv(\"/App/output/blest.csv\")\n",
    "peekaboo = pandas.read_csv(\"/App/output/peekaboo.csv\")\n",
    "qlearning = pandas.read_csv(\"/App/output/qlearning.csv\")\n",
    "\n",
    "result = pandas.concat([(rtt), (ecf), (blest), (peekaboo), (qlearning)], axis=1)\n",
    "import matplotlib.pyplot as plt\n",
    "from IPython.core.pylabtools import figsize\n",
    "figsize(5, 7)\n",
    "\n",
    "result.plot.box(showfliers=False)\n",
    "\n",
    "plt.ylabel(\"Download Time (ms)\")\n",
    "plt.ylim(top=60000, bottom=0)\n",
    "plt.xlabel(\"Schedulers\")\n",
    "plt.title(\"Sc\")\n",
    "#plt.xticks([])\n",
    "plt.show()\n"
   ]
  },
  {
   "cell_type": "code",
   "execution_count": 51,
   "metadata": {
    "scrolled": true
   },
   "outputs": [
    {
     "ename": "ImportError",
     "evalue": "No module named seaborn",
     "output_type": "error",
     "traceback": [
      "\u001b[0;31m\u001b[0m",
      "\u001b[0;31mImportError\u001b[0mTraceback (most recent call last)",
      "\u001b[0;32m<ipython-input-51-8468fd499091>\u001b[0m in \u001b[0;36m<module>\u001b[0;34m()\u001b[0m\n\u001b[0;32m----> 1\u001b[0;31m \u001b[0;32mimport\u001b[0m \u001b[0mseaborn\u001b[0m \u001b[0;32mas\u001b[0m \u001b[0msns\u001b[0m\u001b[0;34m;\u001b[0m \u001b[0msns\u001b[0m\u001b[0;34m.\u001b[0m\u001b[0mset\u001b[0m\u001b[0;34m(\u001b[0m\u001b[0;34m)\u001b[0m\u001b[0;34m\u001b[0m\u001b[0m\n\u001b[0m\u001b[1;32m      2\u001b[0m \u001b[0mqtable\u001b[0m \u001b[0;34m=\u001b[0m \u001b[0msns\u001b[0m\u001b[0;34m.\u001b[0m\u001b[0mload_dataset\u001b[0m\u001b[0;34m(\u001b[0m\u001b[0;34m\"/App/output/rtt.csv\"\u001b[0m\u001b[0;34m)\u001b[0m\u001b[0;34m\u001b[0m\u001b[0m\n\u001b[1;32m      3\u001b[0m \u001b[0;34m\u001b[0m\u001b[0m\n\u001b[1;32m      4\u001b[0m \u001b[0;31m#result = sns.concat([(qtable), (qtable)], axis=1)\u001b[0m\u001b[0;34m\u001b[0m\u001b[0;34m\u001b[0m\u001b[0m\n\u001b[1;32m      5\u001b[0m \u001b[0;34m\u001b[0m\u001b[0m\n",
      "\u001b[0;31mImportError\u001b[0m: No module named seaborn"
     ]
    }
   ],
   "source": [
    "import seaborn as sns; sns.set()\n",
    "qtable = sns.load_dataset(\"/App/output/rtt.csv\")\n",
    "\n",
    "#result = sns.concat([(qtable), (qtable)], axis=1)\n",
    "\n",
    "figsize(9, 7)\n",
    "\n",
    "result.plot.box(sym='+')\n",
    "\n",
    "plt.ylabel(\"Completion Time (ms)\")\n",
    "plt.ylim(top=8000, bottom=0)\n",
    "plt.xlabel(\"Schedulers\")\n",
    "plt.title(\"Completion time of different schedulers\")\n",
    "plt.show()\n"
   ]
  },
  {
   "cell_type": "code",
   "execution_count": null,
   "metadata": {},
   "outputs": [],
   "source": []
  }
 ],
 "metadata": {
  "kernelspec": {
   "display_name": "Python 2",
   "language": "python",
   "name": "python2"
  },
  "language_info": {
   "codemirror_mode": {
    "name": "ipython",
    "version": 2
   },
   "file_extension": ".py",
   "mimetype": "text/x-python",
   "name": "python",
   "nbconvert_exporter": "python",
   "pygments_lexer": "ipython2",
   "version": "2.7.17"
  }
 },
 "nbformat": 4,
 "nbformat_minor": 2
}
